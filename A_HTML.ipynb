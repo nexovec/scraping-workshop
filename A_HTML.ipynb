{
 "cells": [
  {
   "cell_type": "markdown",
   "id": "4e620190",
   "metadata": {},
   "source": [
    "## Opakování HTML"
   ]
  },
  {
   "cell_type": "markdown",
   "id": "856d88ac",
   "metadata": {},
   "source": [
    "<div class=\"alert alert-block alert-warning\">\n",
    "<b>Cvičení 1:</b> <br>Jaké má stránka tagy? <br> Jaké má stránka atributy?<br>Jaké má stránka elementy?<br>Co je obsahem (textem) tagu h1?\n",
    "</div>"
   ]
  },
  {
   "cell_type": "code",
   "execution_count": 1,
   "id": "31200a9b",
   "metadata": {},
   "outputs": [],
   "source": [
    "jednoduche_html = \"\"\"\n",
    "<html>\n",
    "\n",
    "<head>\n",
    "  <style>\n",
    "    li {font-size: 18px;}\n",
    "  </style\n",
    "</head>\n",
    "\n",
    "<body>\n",
    "  <div style=\"border-style: double; padding: 35px\">\n",
    "    <h1>Úkoly na začátku workshopu</h1>\n",
    "    <ul>\n",
    "      <li>připravit místnost</li>\n",
    "      <li>přivítat lidi</li>\n",
    "      <li>představit plán</li>\n",
    "      <li>vrhnout se na to</li>\n",
    "    </ul>\n",
    "    <br>\n",
    "  </div>\n",
    "</body>\n",
    "\n",
    "</html>\n",
    "\"\"\""
   ]
  },
  {
   "cell_type": "markdown",
   "id": "32dae434",
   "metadata": {},
   "source": [
    "<div class=\"alert alert-block alert-success\">\n",
    "<b>Bonus</b> Jak by HTML výše vypadalo, se můžeš podívat pomocí buňky níže:\n",
    "</div>"
   ]
  },
  {
   "cell_type": "code",
   "execution_count": 2,
   "id": "f58b3a9d",
   "metadata": {},
   "outputs": [
    {
     "data": {
      "text/html": [
       "\n",
       "<html>\n",
       "\n",
       "<head>\n",
       "  <style>\n",
       "    li {font-size: 18px;}\n",
       "  </style\n",
       "</head>\n",
       "\n",
       "<body>\n",
       "  <div style=\"border-style: double; padding: 35px\">\n",
       "    <h1>Úkoly na začátku workshopu</h1>\n",
       "    <ul>\n",
       "      <li>připravit místnost</li>\n",
       "      <li>přivítat lidi</li>\n",
       "      <li>představit plán</li>\n",
       "      <li>vrhnout se na to</li>\n",
       "    </ul>\n",
       "    <br>\n",
       "  </div>\n",
       "</body>\n",
       "\n",
       "</html>\n"
      ],
      "text/plain": [
       "<IPython.core.display.HTML object>"
      ]
     },
     "metadata": {},
     "output_type": "display_data"
    }
   ],
   "source": [
    "from IPython.display import display, HTML\n",
    "display(HTML(jednoduche_html)) "
   ]
  },
  {
   "cell_type": "markdown",
   "id": "e0859029",
   "metadata": {},
   "source": [
    "# BeautifulSoup"
   ]
  },
  {
   "cell_type": "code",
   "execution_count": 3,
   "id": "e12a4370",
   "metadata": {},
   "outputs": [],
   "source": [
    "#importuje knihovnu (bs je typicky používaná zkratka)\n",
    "from bs4 import BeautifulSoup as bs"
   ]
  },
  {
   "cell_type": "code",
   "execution_count": 4,
   "id": "0a823158",
   "metadata": {},
   "outputs": [],
   "source": [
    "#načte naše HTML uložené v proměnné jednoduche_html \n",
    "soup = bs(jednoduche_html)\n",
    "\n",
    "# je možné specifikovat použitý parser,defaultní hodnota je \"html.parser\"\n",
    "# soup = bs(jednoduche_html, \"html.parser\")"
   ]
  },
  {
   "cell_type": "code",
   "execution_count": 5,
   "id": "260dff3d",
   "metadata": {},
   "outputs": [
    {
     "data": {
      "text/plain": [
       "<html>\n",
       "<head>\n",
       "<style>\n",
       "    li {font-size: 18px;}\n",
       "  </style>\n",
       "</head><body>\n",
       "<div style=\"border-style: double; padding: 35px\">\n",
       "<h1>Úkoly na začátku workshopu</h1>\n",
       "<ul>\n",
       "<li>připravit místnost</li>\n",
       "<li>přivítat lidi</li>\n",
       "<li>představit plán</li>\n",
       "<li>vrhnout se na to</li>\n",
       "</ul>\n",
       "<br/>\n",
       "</div>\n",
       "</body>\n",
       "</html>"
      ]
     },
     "execution_count": 5,
     "metadata": {},
     "output_type": "execute_result"
    }
   ],
   "source": [
    "soup\n",
    "#pokud se podíváme na to, co v \"soup\" je,\n",
    "# na první pohled žádná změna"
   ]
  },
  {
   "cell_type": "code",
   "execution_count": 6,
   "id": "76952c85",
   "metadata": {},
   "outputs": [
    {
     "data": {
      "text/plain": [
       "bs4.BeautifulSoup"
      ]
     },
     "execution_count": 6,
     "metadata": {},
     "output_type": "execute_result"
    }
   ],
   "source": [
    "type(soup) \n",
    "#soubor však už není jen textový řetězec, \n",
    "#knihovna si ho přečetla a rozumí jeho struktuře"
   ]
  },
  {
   "cell_type": "code",
   "execution_count": 7,
   "id": "82c3e620",
   "metadata": {},
   "outputs": [
    {
     "data": {
      "text/plain": [
       "str"
      ]
     },
     "execution_count": 7,
     "metadata": {},
     "output_type": "execute_result"
    }
   ],
   "source": [
    "type(jednoduche_html) \n",
    "# původní dokument je typu str... \n",
    "#s tím bychom se daleko nedostali\n",
    "\n",
    "# NEPARSUJTE HTML POMOCÍ REGEXŮ !!!!"
   ]
  },
  {
   "cell_type": "markdown",
   "id": "7d51c2e3",
   "metadata": {},
   "source": [
    "# Jak s pomocí BeautifulSoup porcovat HTML: tagy"
   ]
  },
  {
   "cell_type": "markdown",
   "id": "59f716ad",
   "metadata": {},
   "source": [
    "## metoda *find*: nalezení prvního prvku"
   ]
  },
  {
   "cell_type": "code",
   "execution_count": 8,
   "id": "5f2acf88",
   "metadata": {},
   "outputs": [
    {
     "data": {
      "text/plain": [
       "<h1>Úkoly na začátku workshopu</h1>"
      ]
     },
     "execution_count": 8,
     "metadata": {},
     "output_type": "execute_result"
    }
   ],
   "source": [
    "#vyhledá první tag h1\n",
    "soup.find('h1')\n",
    "\n",
    "#alternativně lze také takto: soup.h1"
   ]
  },
  {
   "cell_type": "code",
   "execution_count": 9,
   "id": "29849fac",
   "metadata": {},
   "outputs": [
    {
     "data": {
      "text/plain": [
       "bs4.element.Tag"
      ]
     },
     "execution_count": 9,
     "metadata": {},
     "output_type": "execute_result"
    }
   ],
   "source": [
    "#výsledek v buňce výše je typu element - Tag (není to string/text)\n",
    "type(soup.find('h1'))"
   ]
  },
  {
   "cell_type": "code",
   "execution_count": 10,
   "id": "1acc1539",
   "metadata": {},
   "outputs": [
    {
     "data": {
      "text/plain": [
       "'Úkoly na začátku workshopu'"
      ]
     },
     "execution_count": 10,
     "metadata": {},
     "output_type": "execute_result"
    }
   ],
   "source": [
    "#chceme-li získat pouze text, přidáme .text\n",
    "soup.find('h1').text"
   ]
  },
  {
   "cell_type": "code",
   "execution_count": 11,
   "id": "14ffd29f",
   "metadata": {},
   "outputs": [
    {
     "data": {
      "text/plain": [
       "str"
      ]
     },
     "execution_count": 11,
     "metadata": {},
     "output_type": "execute_result"
    }
   ],
   "source": [
    "type(soup.find('h1').text) "
   ]
  },
  {
   "cell_type": "markdown",
   "id": "3e08b9b4",
   "metadata": {},
   "source": [
    "## metoda *find_all*: nalezení všech prvků"
   ]
  },
  {
   "cell_type": "code",
   "execution_count": 12,
   "id": "36f4e2a6",
   "metadata": {},
   "outputs": [
    {
     "data": {
      "text/plain": [
       "[<li>připravit místnost</li>,\n",
       " <li>přivítat lidi</li>,\n",
       " <li>představit plán</li>,\n",
       " <li>vrhnout se na to</li>]"
      ]
     },
     "execution_count": 12,
     "metadata": {},
     "output_type": "execute_result"
    }
   ],
   "source": [
    "#vyhledá všechny tady *li* na stránce\n",
    "soup.find_all('li')"
   ]
  },
  {
   "cell_type": "code",
   "execution_count": 13,
   "id": "4e6dbdc9",
   "metadata": {},
   "outputs": [
    {
     "data": {
      "text/plain": [
       "bs4.element.ResultSet"
      ]
     },
     "execution_count": 13,
     "metadata": {},
     "output_type": "execute_result"
    }
   ],
   "source": [
    "#výsledek je typu element - ResultSet\n",
    "#jak dává napovědět struktura, \n",
    "# - je to typ blízký seznamu, \n",
    "# - má i podobné metody, např. append\n",
    "\n",
    "#jak se píše v dokumentaci: A ResultSet is just a list that...\"\"\n",
    "\n",
    "type(soup.find_all('li'))"
   ]
  },
  {
   "cell_type": "code",
   "execution_count": 14,
   "id": "17ee6a25",
   "metadata": {},
   "outputs": [
    {
     "name": "stdout",
     "output_type": "stream",
     "text": [
      "připravit místnost\n",
      "přivítat lidi\n",
      "představit plán\n",
      "vrhnout se na to\n"
     ]
    }
   ],
   "source": [
    "#text z elementů získáme tak, že:\n",
    "# - iterujeme skrz seznam\n",
    "# - u každého prvku zavoláme .text\n",
    "for item in soup.find_all('li'):\n",
    "    print(item.text)"
   ]
  },
  {
   "cell_type": "markdown",
   "id": "6979dc37",
   "metadata": {},
   "source": [
    "<div class=\"alert alert-block alert-danger\">\n",
    "<b>Pozor!</b> Atribut .text nemůžeme volat na seznam! Pokud se o to pokusíme, je výsledkem chyba. Podívejme se na to v další buňce a zaměřme se i na to, jestli rozumíme chybové hlášce.\n",
    "</div>"
   ]
  },
  {
   "cell_type": "code",
   "execution_count": 15,
   "id": "84c198a5",
   "metadata": {},
   "outputs": [
    {
     "ename": "AttributeError",
     "evalue": "ResultSet object has no attribute 'text'. You're probably treating a list of elements like a single element. Did you call find_all() when you meant to call find()?",
     "output_type": "error",
     "traceback": [
      "\u001b[0;31m---------------------------------------------------------------------------\u001b[0m",
      "\u001b[0;31mAttributeError\u001b[0m                            Traceback (most recent call last)",
      "Cell \u001b[0;32mIn[15], line 1\u001b[0m\n\u001b[0;32m----> 1\u001b[0m \u001b[43msoup\u001b[49m\u001b[38;5;241;43m.\u001b[39;49m\u001b[43mfind_all\u001b[49m\u001b[43m(\u001b[49m\u001b[38;5;124;43m'\u001b[39;49m\u001b[38;5;124;43mli\u001b[39;49m\u001b[38;5;124;43m'\u001b[39;49m\u001b[43m)\u001b[49m\u001b[38;5;241;43m.\u001b[39;49m\u001b[43mtext\u001b[49m\n",
      "File \u001b[0;32m~/src/scraping-workshop/venv/lib/python3.10/site-packages/bs4/element.py:2428\u001b[0m, in \u001b[0;36mResultSet.__getattr__\u001b[0;34m(self, key)\u001b[0m\n\u001b[1;32m   2426\u001b[0m \u001b[38;5;28;01mdef\u001b[39;00m \u001b[38;5;21m__getattr__\u001b[39m(\u001b[38;5;28mself\u001b[39m, key):\n\u001b[1;32m   2427\u001b[0m \u001b[38;5;250m    \u001b[39m\u001b[38;5;124;03m\"\"\"Raise a helpful exception to explain a common code fix.\"\"\"\u001b[39;00m\n\u001b[0;32m-> 2428\u001b[0m     \u001b[38;5;28;01mraise\u001b[39;00m \u001b[38;5;167;01mAttributeError\u001b[39;00m(\n\u001b[1;32m   2429\u001b[0m         \u001b[38;5;124m\"\u001b[39m\u001b[38;5;124mResultSet object has no attribute \u001b[39m\u001b[38;5;124m'\u001b[39m\u001b[38;5;132;01m%s\u001b[39;00m\u001b[38;5;124m'\u001b[39m\u001b[38;5;124m. You\u001b[39m\u001b[38;5;124m'\u001b[39m\u001b[38;5;124mre probably treating a list of elements like a single element. Did you call find_all() when you meant to call find()?\u001b[39m\u001b[38;5;124m\"\u001b[39m \u001b[38;5;241m%\u001b[39m key\n\u001b[1;32m   2430\u001b[0m     )\n",
      "\u001b[0;31mAttributeError\u001b[0m: ResultSet object has no attribute 'text'. You're probably treating a list of elements like a single element. Did you call find_all() when you meant to call find()?"
     ]
    }
   ],
   "source": [
    "soup.find_all('li').text"
   ]
  },
  {
   "cell_type": "markdown",
   "id": "74515588",
   "metadata": {},
   "source": [
    "# Cvičení"
   ]
  },
  {
   "cell_type": "code",
   "execution_count": 16,
   "id": "09049702",
   "metadata": {},
   "outputs": [],
   "source": [
    "workshop_html = \"\"\"\n",
    "<title></title>\n",
    "<h1>Úvod do světa scrapingu: polévky, pavouci, API</h1>\n",
    "\n",
    "<p>Víš, že Ti Python může pomoci stahovat si automaticky z internetu vybraná data? Pokud ti doposud taková možnost byla utajena, pojď si rozšířit obzory na tento začátečnický workshop. 🤓</p>\n",
    "\n",
    "<h2>Program</h2>\n",
    "\n",
    "<p>V průběhu workshopu se:</p>\n",
    "\n",
    "<ul>\n",
    "    <li><strong>navnadíme</strong>: řekneme si, oč jde a k čemu to může být dobré (a proč se vyplatí mít i jinou možnost než manuální klikání s duem CTRL + C & CTRL + V),</li>\n",
    "    <li><strong>vyzbrojíme</strong>: seznámíme se se základními pojmy, pravidly pohybu v této oblasti i možnými nástrahami,</li>\n",
    "    <li><strong>naučíme zvolit vhodný bojový plán</strong>: podíváme se webovým stránkám pod pokličku/kapotu a řekneme si, jak zvolit správný postup získání dat,</li>\n",
    "    <li><strong>vrhneme do práce</strong>: podíváme se, jak vypadá scraping v Pythonu a napíšeme si jednoduchý scraper,</li>\n",
    "    <li><strong>pokocháme výsledky naší práce</strong>: řekneme si, čím lze na samotný scraping dále navázat.</li>\n",
    "</ul>\n",
    "\n",
    "<h2>Co je potřeba</h2>\n",
    "\n",
    "<h3>Úroveň Pythonu</h3>\n",
    "\n",
    "<p>Umět psát základní skripty.</p>\n",
    "\n",
    "<h3>O tématu</h3>\n",
    "\n",
    "<p>Není potřeba žádná předchozí znalost, vše bude vysvětleno.</p>\n",
    "\n",
    "<h2>Kde a kdy to bude</h2>\n",
    "\n",
    "<ul>\n",
    "    <li>kde: 17. září</li>\n",
    "    <li>kdy: od 14 h</li>\n",
    "    <li>jak dlouho: 3 hodiny</li>\n",
    "    <li>kde: místnost 302, FIT ČVUT</li>\n",
    "</ul>\n",
    "\n",
    "\"\"\""
   ]
  },
  {
   "cell_type": "code",
   "execution_count": 17,
   "id": "c4d91efb",
   "metadata": {},
   "outputs": [
    {
     "data": {
      "text/html": [
       "\n",
       "<title></title>\n",
       "<h1>Úvod do světa scrapingu: polévky, pavouci, API</h1>\n",
       "\n",
       "<p>Víš, že Ti Python může pomoci stahovat si automaticky z internetu vybraná data? Pokud ti doposud taková možnost byla utajena, pojď si rozšířit obzory na tento začátečnický workshop. 🤓</p>\n",
       "\n",
       "<h2>Program</h2>\n",
       "\n",
       "<p>V průběhu workshopu se:</p>\n",
       "\n",
       "<ul>\n",
       "    <li><strong>navnadíme</strong>: řekneme si, oč jde a k čemu to může být dobré (a proč se vyplatí mít i jinou možnost než manuální klikání s duem CTRL + C & CTRL + V),</li>\n",
       "    <li><strong>vyzbrojíme</strong>: seznámíme se se základními pojmy, pravidly pohybu v této oblasti i možnými nástrahami,</li>\n",
       "    <li><strong>naučíme zvolit vhodný bojový plán</strong>: podíváme se webovým stránkám pod pokličku/kapotu a řekneme si, jak zvolit správný postup získání dat,</li>\n",
       "    <li><strong>vrhneme do práce</strong>: podíváme se, jak vypadá scraping v Pythonu a napíšeme si jednoduchý scraper,</li>\n",
       "    <li><strong>pokocháme výsledky naší práce</strong>: řekneme si, čím lze na samotný scraping dále navázat.</li>\n",
       "</ul>\n",
       "\n",
       "<h2>Co je potřeba</h2>\n",
       "\n",
       "<h3>Úroveň Pythonu</h3>\n",
       "\n",
       "<p>Umět psát základní skripty.</p>\n",
       "\n",
       "<h3>O tématu</h3>\n",
       "\n",
       "<p>Není potřeba žádná předchozí znalost, vše bude vysvětleno.</p>\n",
       "\n",
       "<h2>Kde a kdy to bude</h2>\n",
       "\n",
       "<ul>\n",
       "    <li>kde: 17. září</li>\n",
       "    <li>kdy: od 14 h</li>\n",
       "    <li>jak dlouho: 3 hodiny</li>\n",
       "    <li>kde: místnost 302, FIT ČVUT</li>\n",
       "</ul>\n",
       "\n"
      ],
      "text/plain": [
       "<IPython.core.display.HTML object>"
      ]
     },
     "metadata": {},
     "output_type": "display_data"
    }
   ],
   "source": [
    "from IPython.display import display, HTML\n",
    "display(HTML(workshop_html)) \n"
   ]
  },
  {
   "cell_type": "markdown",
   "id": "547a6d06",
   "metadata": {},
   "source": [
    "## Otázky: základní set"
   ]
  },
  {
   "cell_type": "markdown",
   "id": "5fc771c1",
   "metadata": {},
   "source": [
    "<div class=\"alert alert-block alert-warning\">\n",
    "<b>Cvičení 0:</b> <br>Použij knihovnu BeautifulSup k načtení proměnné \"workshop_html\", v níž je uložené html, do proměnné \"soup\".<br>Mrkni na to, co v \"soup\" je.\n",
    "</div>"
   ]
  },
  {
   "cell_type": "code",
   "execution_count": null,
   "id": "43483d6b",
   "metadata": {},
   "outputs": [],
   "source": [
    "thing = bs(workshop_html)"
   ]
  },
  {
   "cell_type": "code",
   "execution_count": null,
   "id": "1caccbe0",
   "metadata": {},
   "outputs": [],
   "source": [
    "thing"
   ]
  },
  {
   "cell_type": "markdown",
   "id": "06a5f804",
   "metadata": {},
   "source": [
    "<div class=\"alert alert-block alert-warning\">\n",
    "<b>Cvičení 1: Odstavce</b> <br>Jaký  je první odstavec na stránce? (odstavec má tag \"p\")<br>Jaké jsou na stránce odstavce? <br>Zobraz text všech těchto odstavců.\n",
    "</div>"
   ]
  },
  {
   "cell_type": "code",
   "execution_count": null,
   "id": "b41a06f2",
   "metadata": {},
   "outputs": [],
   "source": []
  },
  {
   "cell_type": "code",
   "execution_count": null,
   "id": "ee367b33",
   "metadata": {},
   "outputs": [],
   "source": []
  },
  {
   "cell_type": "markdown",
   "id": "c27825ba",
   "metadata": {},
   "source": [
    "<div class=\"alert alert-block alert-warning\">\n",
    "<b>Cvičení 3: Tag \"title\"</b> <br>Jaký je obsah tagu title? <br>Jakou pravdivostní hodnotu má tento tag? <br> Mohu vidět .text tohoto elementu?\n",
    "</div>"
   ]
  },
  {
   "cell_type": "code",
   "execution_count": null,
   "id": "4c326605",
   "metadata": {},
   "outputs": [],
   "source": []
  },
  {
   "cell_type": "code",
   "execution_count": null,
   "id": "b8474ea0",
   "metadata": {},
   "outputs": [],
   "source": []
  },
  {
   "cell_type": "code",
   "execution_count": null,
   "id": "41609f96",
   "metadata": {},
   "outputs": [],
   "source": []
  },
  {
   "cell_type": "markdown",
   "id": "a9514dff",
   "metadata": {},
   "source": [
    "<div class=\"alert alert-block alert-warning\">\n",
    "<b>Cvičení 3: Tag \"h6\"</b> <br>Co se stane, když vyhledáš tag \"h6\"? Jakého typu bude výsledek?\n",
    "</div>"
   ]
  },
  {
   "cell_type": "code",
   "execution_count": null,
   "id": "780442e8",
   "metadata": {},
   "outputs": [],
   "source": []
  },
  {
   "cell_type": "code",
   "execution_count": null,
   "id": "ebdd4a3f",
   "metadata": {},
   "outputs": [],
   "source": []
  },
  {
   "cell_type": "code",
   "execution_count": null,
   "id": "7414593c",
   "metadata": {},
   "outputs": [],
   "source": []
  },
  {
   "cell_type": "markdown",
   "id": "3e390941",
   "metadata": {},
   "source": [
    "# Cvičení II"
   ]
  },
  {
   "cell_type": "code",
   "execution_count": null,
   "id": "2463fc71",
   "metadata": {},
   "outputs": [],
   "source": [
    "utulek_html = \"\"\"\n",
    "<!DOCTYPE html>\n",
    "<html lang=\"cs\">\n",
    "\n",
    "<head>\n",
    "    <meta charset=\"UTF-8\">\n",
    "    <meta name=\"viewport\" content=\"width=device-width, initial-scale=1.0\">\n",
    "    <title>Útulek pro kočky</title>\n",
    "    <style>\n",
    "        body {\n",
    "            font-family: Arial, sans-serif;\n",
    "            margin: 0;\n",
    "            padding: 0;\n",
    "            background-color: #f3f4f6;\n",
    "        }\n",
    "        \n",
    "        header {\n",
    "            background-color: #4CAF50;\n",
    "            color: white;\n",
    "            text-align: center;\n",
    "            padding: 1em 0;\n",
    "        }\n",
    "        \n",
    "        .content {\n",
    "            margin: 2em 10%;\n",
    "        }\n",
    "        \n",
    "        .gallery {\n",
    "            display: grid;\n",
    "            grid-template-columns: repeat(auto-fill, minmax(200px, 1fr));\n",
    "            gap: 1em;\n",
    "        }\n",
    "        \n",
    "        .gallery img {\n",
    "            width: 100%;\n",
    "            border-radius: 10px;\n",
    "            box-shadow: 2px 2px 10px rgba(0, 0, 0, 0.1);\n",
    "        }\n",
    "    </style>\n",
    "</head>\n",
    "\n",
    "<body>\n",
    "    <header>\n",
    "        <h1>Vítejte v Útulku pro kočky!</h1>\n",
    "    </header>\n",
    "\n",
    "    <div class=\"content\">\n",
    "        <h2>O nás</h2>\n",
    "        <p>Kočičí útulek je domovem pro opuštěné a ztracené kočičky. Naším posláním je najít pro ně nový milující domov.</p>\n",
    "\n",
    "        <h2>Kočičky k adopci</h2>\n",
    "        <ul>\n",
    "            <li>Mrňous</li>\n",
    "            <li>Ťapka</li>\n",
    "            <li>Flíček</li>\n",
    "            <li>Mikes</li>\n",
    "            <!-- Můžete přidat další jména kočiček -->\n",
    "        </ul>\n",
    "\n",
    "        <h2>Co potřebujete k adopci kočky?</h2>\n",
    "        <ul>\n",
    "            <li>Kočičí záchod s naplní</li>\n",
    "            <li>Miska na vodu a krmivo</li>\n",
    "            <li>Hračky pro kočky</li>\n",
    "            <li>Přepravka pro převoz</li>\n",
    "            <li>Vodítko a obojek (pokud plánujete kočku venčit)</li>\n",
    "            <!-- Můžete přidat další potřebné věci -->\n",
    "        </ul>\n",
    "\n",
    "        <h2>Kontaktujte nás</h2>\n",
    "        <p>Email: priklad@email.cz</p>\n",
    "        <p>Telefon: 123 456 789</p>\n",
    "    </div>\n",
    "</body>\n",
    "\n",
    "</html>\n",
    "\n",
    "\"\"\""
   ]
  },
  {
   "cell_type": "code",
   "execution_count": null,
   "id": "c02b7ef8",
   "metadata": {},
   "outputs": [],
   "source": [
    "from IPython.display import display, HTML\n",
    "display(HTML(utulek_html)) "
   ]
  },
  {
   "cell_type": "markdown",
   "id": "24e9ed85",
   "metadata": {},
   "source": [
    "<div class=\"alert alert-block alert-warning\">\n",
    "<b>Načti html do beatifulsoup.</b>\n",
    "</div>"
   ]
  },
  {
   "cell_type": "code",
   "execution_count": null,
   "id": "9e513a52",
   "metadata": {},
   "outputs": [],
   "source": [
    "soup = bs(utulek_html)"
   ]
  },
  {
   "cell_type": "code",
   "execution_count": null,
   "id": "2175944d",
   "metadata": {},
   "outputs": [],
   "source": []
  },
  {
   "cell_type": "markdown",
   "id": "b740494d",
   "metadata": {},
   "source": [
    "<div class=\"alert alert-block alert-warning\">\n",
    "<b>Řetězení vyhledávání:</b> <br>Získej z HTML nejdříve \"header\". <br>Z této části, z části header, vyber jen element s tagem \"h1\".\n",
    "</div>"
   ]
  },
  {
   "cell_type": "code",
   "execution_count": null,
   "id": "3b1780a1",
   "metadata": {},
   "outputs": [],
   "source": []
  },
  {
   "cell_type": "code",
   "execution_count": null,
   "id": "43c5aa00",
   "metadata": {},
   "outputs": [],
   "source": []
  },
  {
   "cell_type": "markdown",
   "id": "f49d424a",
   "metadata": {},
   "source": [
    "<div class=\"alert alert-block alert-warning\">\n",
    "<b>Hraj si. :)</b> Zkus se dostat k těm částem HTML, které si vybereš.\n",
    "</div>"
   ]
  },
  {
   "cell_type": "code",
   "execution_count": null,
   "id": "503d5d9b",
   "metadata": {},
   "outputs": [],
   "source": []
  },
  {
   "cell_type": "code",
   "execution_count": null,
   "id": "e1986df5",
   "metadata": {},
   "outputs": [],
   "source": []
  },
  {
   "cell_type": "markdown",
   "id": "b62b7750",
   "metadata": {},
   "source": [
    "# Jak s pomocí BeautifulSoup porcovat HTML II: atributy"
   ]
  },
  {
   "cell_type": "markdown",
   "id": "71844e84",
   "metadata": {},
   "source": [
    "<div class=\"alert alert-block alert-warning\">\n",
    "<b>Otázka:</b> Jaké jsou na stránce atributy?\n",
    "</div>"
   ]
  },
  {
   "cell_type": "code",
   "execution_count": null,
   "id": "01e1442e",
   "metadata": {},
   "outputs": [],
   "source": [
    "workshop_html =\"\"\"\n",
    "<html>\n",
    "\n",
    "<body>\n",
    "  <h1>Dnešní workshop</h1>\n",
    "  <div id='agenda' style=\"background-color: aliceblue\">\n",
    "    <h2>Program</h2>\n",
    "    <p>Dnešní workshop se skládá ze tří hlavních částí:</p>\n",
    "    <ol>\n",
    "      <li>úvod</li>\n",
    "      <li>Základy HTML</li>\n",
    "      <li>Základy scrapingu</li>\n",
    "      <li>Pokročilý nástroj: scrapy</li>\n",
    "    </ol>\n",
    "  </div>\n",
    "  \n",
    "  <div id='nastroje' style='background-color: honeydew' class=\"abc\">\n",
    "    <h2>Nástroje</h2>\n",
    "    <p>Dozvíte se o těchto knihovnách v Pythonu:</p>  \n",
    "    <ol>\n",
    "      <li>BeautifulSoup</li>\n",
    "      <li>requests</li>\n",
    "      <li>scrapy</li>\n",
    "    </ol>\n",
    "  </div>\n",
    "</body>\n",
    "\n",
    "</html>\n",
    "\"\"\""
   ]
  },
  {
   "cell_type": "markdown",
   "id": "8c6ea5bf",
   "metadata": {},
   "source": [
    "<div class=\"alert alert-block alert-warning\">\n",
    "<b>Načti html \"workshop_html\" do polévky (proměnné \"soup\"). :)</b>\n",
    "</div>"
   ]
  },
  {
   "cell_type": "code",
   "execution_count": null,
   "id": "97e2c894",
   "metadata": {},
   "outputs": [],
   "source": [
    "soup = bs(workshop_html)"
   ]
  },
  {
   "cell_type": "code",
   "execution_count": null,
   "id": "d7bcf8cc",
   "metadata": {},
   "outputs": [],
   "source": []
  },
  {
   "cell_type": "markdown",
   "id": "7d3eefb5",
   "metadata": {},
   "source": [
    "### Podle atributů se hledá následovně:\n"
   ]
  },
  {
   "cell_type": "code",
   "execution_count": null,
   "id": "08ed351a",
   "metadata": {},
   "outputs": [],
   "source": [
    "agenda = soup.find(id=\"agenda\")"
   ]
  },
  {
   "cell_type": "code",
   "execution_count": null,
   "id": "5a7fbccf",
   "metadata": {},
   "outputs": [],
   "source": [
    "type(agenda)"
   ]
  },
  {
   "cell_type": "markdown",
   "id": "db15a36a",
   "metadata": {},
   "source": [
    "<div class=\"alert alert-block alert-warning\">\n",
    "<b>Otázky:</b> <br> Jakého typu je \"agenda\"?Co to znamená pro další zpracování?\n",
    "</div>"
   ]
  },
  {
   "cell_type": "code",
   "execution_count": null,
   "id": "85e110d9",
   "metadata": {},
   "outputs": [],
   "source": []
  },
  {
   "cell_type": "code",
   "execution_count": null,
   "id": "00717555",
   "metadata": {},
   "outputs": [],
   "source": []
  },
  {
   "cell_type": "markdown",
   "id": "1d66b48e",
   "metadata": {},
   "source": [
    "<div class=\"alert alert-block alert-warning\">\n",
    "<b>Úkol:</b> <br> Získej to, co má id \"nastroje\".\n",
    "</div>"
   ]
  },
  {
   "cell_type": "code",
   "execution_count": null,
   "id": "5c7dc9eb",
   "metadata": {},
   "outputs": [],
   "source": []
  },
  {
   "cell_type": "markdown",
   "id": "965cc01d",
   "metadata": {},
   "source": [
    "<div class=\"alert alert-block alert-warning\">\n",
    "<b>Úkol:</b> <br> Získej to, co má v atributu \"class\" hodnotu \"abc\". (Nemělo by ti to jít podle postupu výše. :))\n",
    "</div>"
   ]
  },
  {
   "cell_type": "code",
   "execution_count": null,
   "id": "eec1679a",
   "metadata": {},
   "outputs": [],
   "source": []
  },
  {
   "cell_type": "code",
   "execution_count": null,
   "id": "0fb71f36",
   "metadata": {},
   "outputs": [],
   "source": []
  },
  {
   "cell_type": "code",
   "execution_count": null,
   "id": "0fa578a1",
   "metadata": {},
   "outputs": [],
   "source": []
  }
 ],
 "metadata": {
  "kernelspec": {
   "display_name": "Python 3 (ipykernel)",
   "language": "python",
   "name": "python3"
  },
  "language_info": {
   "codemirror_mode": {
    "name": "ipython",
    "version": 3
   },
   "file_extension": ".py",
   "mimetype": "text/x-python",
   "name": "python",
   "nbconvert_exporter": "python",
   "pygments_lexer": "ipython3",
   "version": "3.10.12"
  }
 },
 "nbformat": 4,
 "nbformat_minor": 5
}
