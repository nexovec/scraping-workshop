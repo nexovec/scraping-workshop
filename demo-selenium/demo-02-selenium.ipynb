{
 "cells": [
  {
   "cell_type": "code",
   "execution_count": null,
   "id": "19a2f980-92e9-44fd-ba6a-36a0423efcac",
   "metadata": {},
   "outputs": [],
   "source": [
    "# python -m pip install selenium"
   ]
  },
  {
   "cell_type": "code",
   "execution_count": null,
   "id": "60c59268",
   "metadata": {},
   "outputs": [],
   "source": [
    "from selenium import webdriver\n",
    "from selenium.webdriver.common.by import By\n",
    "from pathlib import Path\n",
    "\n",
    "from IPython import display\n",
    "from base64 import b64decode"
   ]
  },
  {
   "cell_type": "code",
   "execution_count": null,
   "id": "45e8ca6c",
   "metadata": {},
   "outputs": [],
   "source": [
    "browser = webdriver.Firefox()\n",
    "#browser = webdriver.Chrome()"
   ]
  },
  {
   "cell_type": "code",
   "execution_count": null,
   "id": "567dd4ff",
   "metadata": {},
   "outputs": [],
   "source": [
    "path = Path('kalkulacka.html')\n",
    "browser.get('file://' + str(path.absolute()))"
   ]
  },
  {
   "cell_type": "code",
   "execution_count": null,
   "id": "7d27a564",
   "metadata": {},
   "outputs": [],
   "source": [
    "links = browser.find_elements(by=By.CSS_SELECTOR, value=\"a\")\n",
    "len(links)"
   ]
  },
  {
   "cell_type": "code",
   "execution_count": null,
   "id": "cdb668f2",
   "metadata": {},
   "outputs": [],
   "source": [
    "link_text = links[1].text\n",
    "link_url = links[1].get_attribute('href')\n",
    "\n",
    "print(f'\"{link_text}\"')\n",
    "print(f'\"{link_url}\"')"
   ]
  },
  {
   "cell_type": "code",
   "execution_count": null,
   "id": "8215a2c6",
   "metadata": {},
   "outputs": [],
   "source": [
    "browser.get(link_url)"
   ]
  },
  {
   "cell_type": "code",
   "execution_count": null,
   "id": "2742f264",
   "metadata": {},
   "outputs": [],
   "source": [
    "browser.back()"
   ]
  },
  {
   "cell_type": "code",
   "execution_count": null,
   "id": "c84301e4",
   "metadata": {},
   "outputs": [],
   "source": [
    "button_mul = browser.find_element(by=By.CSS_SELECTOR, value=\"#button-mul\")\n",
    "button_3 = browser.find_element(by=By.CSS_SELECTOR, value=\"#button-3\")\n",
    "button_7 = browser.find_element(by=By.CSS_SELECTOR, value=\"#button-7\")\n",
    "\n",
    "button_result = browser.find_element(by=By.CSS_SELECTOR, value=\"#result\")\n",
    "button_clear = browser.find_element(by=By.CSS_SELECTOR, value=\"#clear\")\n",
    "input_box = browser.find_element(by=By.CSS_SELECTOR, value=\"#input\")"
   ]
  },
  {
   "cell_type": "code",
   "execution_count": null,
   "id": "431c08e1",
   "metadata": {},
   "outputs": [],
   "source": [
    "button_clear.click()\n",
    "\n",
    "button_3.click()\n",
    "print(input_box.text)\n",
    "\n",
    "button_mul.click()\n",
    "print(input_box.text)\n",
    "\n",
    "button_7.click()\n",
    "print(input_box.text)"
   ]
  },
  {
   "cell_type": "code",
   "execution_count": null,
   "id": "cf4d1d67",
   "metadata": {},
   "outputs": [],
   "source": [
    "button_result.click()\n",
    "print(input_box.text)"
   ]
  },
  {
   "cell_type": "code",
   "execution_count": null,
   "id": "ff7301ab",
   "metadata": {},
   "outputs": [],
   "source": [
    "screenshot_element = browser.find_element(by=By.CSS_SELECTOR, value=\".calculator\")\n",
    "base64_picture = screenshot_element.screenshot_as_base64\n",
    "display.Image(b64decode(base64_picture))"
   ]
  }
 ],
 "metadata": {
  "kernelspec": {
   "display_name": "Python 3 (ipykernel)",
   "language": "python",
   "name": "python3"
  },
  "language_info": {
   "codemirror_mode": {
    "name": "ipython",
    "version": 3
   },
   "file_extension": ".py",
   "mimetype": "text/x-python",
   "name": "python",
   "nbconvert_exporter": "python",
   "pygments_lexer": "ipython3",
   "version": "3.11.4"
  }
 },
 "nbformat": 4,
 "nbformat_minor": 5
}
